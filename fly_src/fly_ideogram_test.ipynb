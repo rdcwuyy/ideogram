{
 "cells": [
  {
   "cell_type": "markdown",
   "metadata": {},
   "source": [
    "Fly ideogram testing \n",
    "\n",
    "Init draft: 25 Mar 2023\n",
    "Last update: 27 Mar 2023\n",
    "\n",
    "Ref: https://github.com/eweitz/ideogram/blob/master/examples/jupyter/ideogram.ipynb"
   ]
  },
  {
   "cell_type": "code",
   "execution_count": 1,
   "metadata": {},
   "outputs": [
    {
     "data": {
      "application/javascript": [
       "const script = document.createElement('script');\n",
       "script.type = 'text/javascript';\n",
       "script.src = 'https://cdn.jsdelivr.net/npm/ideogram/dist/js/ideogram.min.js';\n",
       "document.head.appendChild(script);\n"
      ],
      "text/plain": [
       "<IPython.core.display.Javascript object>"
      ]
     },
     "metadata": {},
     "output_type": "display_data"
    }
   ],
   "source": [
    "%%javascript\n",
    "const script = document.createElement('script');\n",
    "script.type = 'text/javascript';\n",
    "script.src = 'https://cdn.jsdelivr.net/npm/ideogram/dist/js/ideogram.min.js';\n",
    "document.head.appendChild(script);"
   ]
  },
  {
   "cell_type": "code",
   "execution_count": 2,
   "metadata": {},
   "outputs": [
    {
     "data": {
      "text/html": [
       "<div id=\"ideo-container\"></div>\n"
      ],
      "text/plain": [
       "<IPython.core.display.HTML object>"
      ]
     },
     "metadata": {},
     "output_type": "display_data"
    }
   ],
   "source": [
    "%%html\n",
    "<div id=\"ideo-container\"></div>"
   ]
  },
  {
   "cell_type": "code",
   "execution_count": 3,
   "metadata": {},
   "outputs": [
    {
     "data": {
      "application/javascript": [
       "\n",
       "const Ace_gene = {\"name\":\"Ace\",\"chr\":\"3R\",\"start\":13222951,\"stop\":13259517}\n",
       "const acj6_gene = {\"name\":\"acj6\",\"chr\":\"X\",\"start\":15350239,\"stop\":15379064}\n",
       "\n",
       "const ideogram = new Ideogram({\n",
       "    organism: 'drosophila-melanogaster',\n",
       "    container: '#ideo-container',\n",
       "    resolution: 550, // proxy for number of cytobands\n",
       "    chrHeight: 275,\n",
       "    chrMargin: 3,\n",
       "    annotationHeight: 4,\n",
       "    annotations: [Ace_gene, acj6_gene]\n",
       "})\n"
      ],
      "text/plain": [
       "<IPython.core.display.Javascript object>"
      ]
     },
     "metadata": {},
     "output_type": "display_data"
    }
   ],
   "source": [
    "%%javascript\n",
    "\n",
    "const Ace_gene = {\"name\":\"Ace\",\"chr\":\"3R\",\"start\":13222951,\"stop\":13259517}\n",
    "const acj6_gene = {\"name\":\"acj6\",\"chr\":\"X\",\"start\":15350239,\"stop\":15379064}\n",
    "\n",
    "const ideogram = new Ideogram({\n",
    "    organism: 'drosophila-melanogaster',\n",
    "    container: '#ideo-container',\n",
    "    resolution: 550, // proxy for number of cytobands\n",
    "    chrHeight: 275,\n",
    "    chrMargin: 3,\n",
    "    annotationHeight: 4,\n",
    "    annotations: [Ace_gene, acj6_gene]\n",
    "})"
   ]
  },
  {
   "cell_type": "code",
   "execution_count": 4,
   "metadata": {},
   "outputs": [],
   "source": [
    "fly_genes_json_path = \"/Users/wing/workspace/ideogram/fly_data/test.json\""
   ]
  },
  {
   "cell_type": "code",
   "execution_count": 5,
   "metadata": {},
   "outputs": [
    {
     "name": "stdout",
     "output_type": "stream",
     "text": [
      "[{'name': '7SLRNA:CR32864', 'chr': '3R', 'start': 6822500, 'stop': 6822798}, {'name': 'a', 'chr': '2R', 'start': 22136968, 'stop': 22172834}, {'name': 'abd-A', 'chr': '3R', 'start': 16807214, 'stop': 16830049}, {'name': 'Abd-B', 'chr': '3R', 'start': 16927212, 'stop': 16972236}, {'name': 'Abl', 'chr': '3L', 'start': 16615866, 'stop': 16647882}]\n"
     ]
    }
   ],
   "source": [
    "import json\n",
    "\n",
    "# read the JSON file and load it into a list of dictionaries\n",
    "with open(fly_genes_json_path) as f:\n",
    "    data = json.load(f)\n",
    "    print(data)"
   ]
  },
  {
   "cell_type": "code",
   "execution_count": 6,
   "metadata": {},
   "outputs": [],
   "source": [
    "# the gene list to retrieve objects from the json file\n",
    "gene_list = ['abd-A', 'Abl', 'a']"
   ]
  },
  {
   "cell_type": "code",
   "execution_count": 10,
   "metadata": {},
   "outputs": [
    {
     "name": "stdout",
     "output_type": "stream",
     "text": [
      "[{'name': 'a', 'chr': '2R', 'start': 22136968, 'stop': 22172834}, {'name': 'abd-A', 'chr': '3R', 'start': 16807214, 'stop': 16830049}, {'name': 'Abl', 'chr': '3L', 'start': 16615866, 'stop': 16647882}]\n"
     ]
    }
   ],
   "source": [
    "gene_objects = [d for d in data if d['name'] in gene_list]\n",
    "print(gene_objects)"
   ]
  },
  {
   "cell_type": "code",
   "execution_count": 11,
   "metadata": {},
   "outputs": [],
   "source": [
    "# Closing file\n",
    "f.close()"
   ]
  },
  {
   "cell_type": "code",
   "execution_count": null,
   "metadata": {},
   "outputs": [],
   "source": []
  },
  {
   "cell_type": "code",
   "execution_count": 12,
   "metadata": {},
   "outputs": [
    {
     "data": {
      "application/javascript": [
       "\n",
       "const Ace_gene = {\"name\":\"Ace\",\"chr\":\"3R\",\"start\":13222951,\"stop\":13259517}\n",
       "const acj6_gene = {\"name\":\"acj6\",\"chr\":\"X\",\"start\":15350239,\"stop\":15379064}\n",
       "\n",
       "const ideogram = new Ideogram({\n",
       "    organism: 'drosophila-melanogaster',\n",
       "    container: '#ideo-container',\n",
       "    resolution: 550, // proxy for number of cytobands\n",
       "    chrHeight: 275,\n",
       "    chrMargin: 3,\n",
       "    annotationHeight: 4,\n",
       "    annotations: gene_objects\n",
       "})\n"
      ],
      "text/plain": [
       "<IPython.core.display.Javascript object>"
      ]
     },
     "metadata": {},
     "output_type": "display_data"
    }
   ],
   "source": [
    "%%javascript\n",
    "\n",
    "const Ace_gene = {\"name\":\"Ace\",\"chr\":\"3R\",\"start\":13222951,\"stop\":13259517}\n",
    "const acj6_gene = {\"name\":\"acj6\",\"chr\":\"X\",\"start\":15350239,\"stop\":15379064}\n",
    "\n",
    "const ideogram = new Ideogram({\n",
    "    organism: 'drosophila-melanogaster',\n",
    "    container: '#ideo-container',\n",
    "    resolution: 550, // proxy for number of cytobands\n",
    "    chrHeight: 275,\n",
    "    chrMargin: 3,\n",
    "    annotationHeight: 4,\n",
    "    annotations: gene_objects\n",
    "})"
   ]
  },
  {
   "cell_type": "code",
   "execution_count": 18,
   "metadata": {},
   "outputs": [],
   "source": [
    "import json\n",
    "from IPython.display import Javascript, display\n",
    "\n",
    "# assume you have a list of JSON objects called \"my_json_objects\"\n",
    "my_json_objects = [{'name': 'a', 'chr': '2R', 'start': 22136968, 'stop': 22172834}, \n",
    "                   {'name': 'abd-A', 'chr': '3R', 'start': 16807214, 'stop': 16830049}, \n",
    "                   {'name': 'Abl', 'chr': '3L', 'start': 16615866, 'stop': 16647882}]\n",
    "\n",
    "# convert the list of JSON objects to a string representation\n",
    "json_string = json.dumps(my_json_objects)\n",
    "\n",
    "# create a JavaScript representation of the JSON data\n",
    "javascript_code = f\"var my_json_objects = {json_string};\"\n",
    "\n"
   ]
  },
  {
   "cell_type": "code",
   "execution_count": 19,
   "metadata": {},
   "outputs": [
    {
     "data": {
      "application/javascript": [
       "# display the JavaScript code in a JavaScript cell\n",
       "display(Javascript(javascript_code))\n"
      ],
      "text/plain": [
       "<IPython.core.display.Javascript object>"
      ]
     },
     "metadata": {},
     "output_type": "display_data"
    }
   ],
   "source": [
    "%%javascript\n",
    "# display the JavaScript code in a JavaScript cell\n",
    "display(Javascript(javascript_code))"
   ]
  },
  {
   "cell_type": "code",
   "execution_count": 16,
   "metadata": {},
   "outputs": [
    {
     "data": {
      "application/javascript": [
       "// access the 'my_json_objects' variable defined in the Python cell\n",
       "console.log(my_json_objects);\n",
       "\n",
       "// loop over the array and log the 'name' attribute of each object\n",
       "my_json_objects.forEach(function(obj) {\n",
       "    console.log(obj.name);\n",
       "});\n"
      ],
      "text/plain": [
       "<IPython.core.display.Javascript object>"
      ]
     },
     "metadata": {},
     "output_type": "display_data"
    }
   ],
   "source": [
    "%%javascript\n",
    "// access the 'my_json_objects' variable defined in the Python cell\n",
    "console.log(my_json_objects);\n",
    "\n",
    "// loop over the array and log the 'name' attribute of each object\n",
    "my_json_objects.forEach(function(obj) {\n",
    "    console.log(obj.name);\n",
    "});"
   ]
  },
  {
   "cell_type": "code",
   "execution_count": 23,
   "metadata": {},
   "outputs": [],
   "source": [
    "data={ \"a\": 0, \"b\": 1 }"
   ]
  },
  {
   "cell_type": "code",
   "execution_count": 24,
   "metadata": {},
   "outputs": [
    {
     "data": {
      "application/javascript": [
       "\n",
       "data = {};\n"
      ],
      "text/plain": [
       "<IPython.core.display.Javascript object>"
      ]
     },
     "metadata": {},
     "output_type": "display_data"
    }
   ],
   "source": [
    "%%javascript\n",
    "\n",
    "data = {};"
   ]
  },
  {
   "cell_type": "code",
   "execution_count": 21,
   "metadata": {},
   "outputs": [],
   "source": []
  },
  {
   "cell_type": "code",
   "execution_count": 22,
   "metadata": {},
   "outputs": [
    {
     "data": {
      "application/javascript": [
       "Javascript(\"data=\"+json.dumps(data))\n"
      ],
      "text/plain": [
       "<IPython.core.display.Javascript object>"
      ]
     },
     "metadata": {},
     "output_type": "display_data"
    }
   ],
   "source": [
    "%%javascript\n",
    "Javascript(\"data=\"+json.dumps(data))"
   ]
  },
  {
   "cell_type": "code",
   "execution_count": null,
   "metadata": {},
   "outputs": [],
   "source": []
  }
 ],
 "metadata": {
  "kernelspec": {
   "display_name": "Python 3 (ipykernel)",
   "language": "python",
   "name": "python3"
  },
  "language_info": {
   "codemirror_mode": {
    "name": "ipython",
    "version": 3
   },
   "file_extension": ".py",
   "mimetype": "text/x-python",
   "name": "python",
   "nbconvert_exporter": "python",
   "pygments_lexer": "ipython3",
   "version": "3.11.0"
  }
 },
 "nbformat": 4,
 "nbformat_minor": 4
}
