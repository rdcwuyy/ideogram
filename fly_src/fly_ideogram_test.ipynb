{
 "cells": [
  {
   "cell_type": "markdown",
   "metadata": {},
   "source": [
    "Fly ideogram testing \n",
    "\n",
    "Init draft: 25 Mar 2023\n",
    "Last update: 25 Mar 2023\n",
    "\n",
    "Ref: https://github.com/eweitz/ideogram/blob/master/examples/jupyter/ideogram.ipynb"
   ]
  },
  {
   "cell_type": "code",
   "execution_count": null,
   "metadata": {},
   "outputs": [],
   "source": [
    "%%javascript\n",
    "const script = document.createElement('script');\n",
    "script.type = 'text/javascript';\n",
    "script.src = 'https://cdn.jsdelivr.net/npm/ideogram/dist/js/ideogram.min.js';\n",
    "document.head.appendChild(script);"
   ]
  },
  {
   "cell_type": "code",
   "execution_count": 2,
   "metadata": {},
   "outputs": [
    {
     "data": {
      "text/html": [
       "<div id=\"ideo-container\"></div>\n"
      ],
      "text/plain": [
       "<IPython.core.display.HTML object>"
      ]
     },
     "metadata": {},
     "output_type": "display_data"
    }
   ],
   "source": [
    "%%html\n",
    "<div id=\"ideo-container\"></div>"
   ]
  },
  {
   "cell_type": "code",
   "execution_count": 6,
   "metadata": {},
   "outputs": [
    {
     "data": {
      "application/javascript": [
       "const brca1_gene = {'name': 'BRCA1', 'chr': '2L', 'start': 43044294, 'stop': 43125482}\n",
       "const apoe_gene = {'name': 'APOE', 'chr': '2R', 'start': 44905749, 'stop': 44909395}\n",
       "\n",
       "const ideogram = new Ideogram({\n",
       "    organism: 'drosophila-melanogaster',\n",
       "    container: '#ideo-container',\n",
       "    resolution: 550, // proxy for number of cytobands\n",
       "    chrHeight: 275,\n",
       "    chrMargin: 3,\n",
       "    annotationHeight: 4,\n",
       "    annotations: [brca1_gene, apoe_gene]\n",
       "})\n"
      ],
      "text/plain": [
       "<IPython.core.display.Javascript object>"
      ]
     },
     "metadata": {},
     "output_type": "display_data"
    }
   ],
   "source": [
    "%%javascript\n",
    "const brca1_gene = {'name': 'BRCA1', 'chr': '2L', 'start': 43044294, 'stop': 43125482}\n",
    "const apoe_gene = {'name': 'APOE', 'chr': '2R', 'start': 44905749, 'stop': 44909395}\n",
    "\n",
    "const ideogram = new Ideogram({\n",
    "    organism: 'drosophila-melanogaster',\n",
    "    container: '#ideo-container',\n",
    "    resolution: 550, // proxy for number of cytobands\n",
    "    chrHeight: 275,\n",
    "    chrMargin: 3,\n",
    "    annotationHeight: 4,\n",
    "    annotations: [brca1_gene, apoe_gene]\n",
    "})"
   ]
  },
  {
   "cell_type": "code",
   "execution_count": null,
   "metadata": {},
   "outputs": [],
   "source": []
  },
  {
   "cell_type": "code",
   "execution_count": null,
   "metadata": {},
   "outputs": [],
   "source": []
  }
 ],
 "metadata": {
  "kernelspec": {
   "display_name": "Python 3 (ipykernel)",
   "language": "python",
   "name": "python3"
  },
  "language_info": {
   "codemirror_mode": {
    "name": "ipython",
    "version": 3
   },
   "file_extension": ".py",
   "mimetype": "text/x-python",
   "name": "python",
   "nbconvert_exporter": "python",
   "pygments_lexer": "ipython3",
   "version": "3.11.0"
  }
 },
 "nbformat": 4,
 "nbformat_minor": 4
}
