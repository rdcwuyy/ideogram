{
 "cells": [
  {
   "cell_type": "markdown",
   "metadata": {},
   "source": [
    "# Fly ideogram testing \n",
    "\n",
    "Init draft: 25 Mar 2023\n",
    "Last update: 28 Mar 2023\n",
    "\n",
    "Ref: https://github.com/eweitz/ideogram/blob/master/examples/jupyter/ideogram.ipynb"
   ]
  },
  {
   "cell_type": "markdown",
   "metadata": {},
   "source": [
    "ToDO: \n",
    "(1) rl is not displayed\n",
    "{'name': 'rl', 'chr': '2R', 'start': 1071462, 'stop': 1125927},\n",
    "(2) X chromosome wrong order\n",
    "(3) label gene names\n",
    "(4) Enlarge chromosomes\n",
    "-- Check the old flyideogram code for updates on json file and js codes\n"
   ]
  },
  {
   "cell_type": "code",
   "execution_count": 1,
   "metadata": {},
   "outputs": [
    {
     "name": "stdout",
     "output_type": "stream",
     "text": [
      "[{'name': 'aop', 'chr': '2L', 'start': 2156484, 'stop': 2178754}, {'name': 'Sos', 'chr': '2L', 'start': 13813816, 'stop': 13819824}, {'name': 'Raf', 'chr': 'X', 'start': 2295466, 'stop': 2343870}, {'name': 'pnt', 'chr': '3R', 'start': 23290231, 'stop': 23346167}, {'name': 'Ras85D', 'chr': '3R', 'start': 9510561, 'stop': 9513067}, {'name': 'rl', 'chr': '2R', 'start': 1071462, 'stop': 1125927}, {'name': 'Egfr', 'chr': '2R', 'start': 21522420, 'stop': 21559977}, {'name': 'aos', 'chr': '3L', 'start': 16470386, 'stop': 16483650}, {'name': 'drk', 'chr': '2R', 'start': 13495222, 'stop': 13502841}, {'name': 'Dsor1', 'chr': 'X', 'start': 9247342, 'stop': 9250037}, {'name': 'sty', 'chr': '3L', 'start': 3401153, 'stop': 3424935}, {'name': 'kek1', 'chr': '2L', 'start': 12817000, 'stop': 12822787}, {'name': 'ksr', 'chr': '3R', 'start': 5478390, 'stop': 5483906}, {'name': 'cic', 'chr': '3R', 'start': 20252770, 'stop': 20303942}]\n"
     ]
    }
   ],
   "source": [
    "# Get the list of json objects for MAPK genes\n",
    "fly_genes_json_path = \"/Users/wing/workspace/ideogram/fly_data/fly_gene_map.json\"\n",
    "\n",
    "import json\n",
    "\n",
    "# read the JSON file and load it into a list of dictionaries\n",
    "with open(fly_genes_json_path) as f:\n",
    "    data = json.load(f)\n",
    "    \n",
    "# the gene list to retrieve objects from the json file\n",
    "# MAPK pathway genes\n",
    "gene_list = ['Egfr', 'drk', 'Sos', 'Ras85D', 'Raf','ksr','Dsor1','rl','cic','pnt','aop','aos','sty','kek1']\n",
    "gene_objects = [d for d in data if d['name'] in gene_list]\n",
    "print(gene_objects)\n",
    "\n",
    "# Closing file\n",
    "f.close()"
   ]
  },
  {
   "cell_type": "code",
   "execution_count": 2,
   "metadata": {},
   "outputs": [
    {
     "data": {
      "application/javascript": [
       "const script = document.createElement('script');\n",
       "script.type = 'text/javascript';\n",
       "script.src = 'http://localhost:8080/ideogram/dist/js/ideogram.min.js';\n",
       "document.head.appendChild(script);\n"
      ],
      "text/plain": [
       "<IPython.core.display.Javascript object>"
      ]
     },
     "metadata": {},
     "output_type": "display_data"
    }
   ],
   "source": [
    "%%javascript\n",
    "const script = document.createElement('script');\n",
    "script.type = 'text/javascript';\n",
    "script.src = 'http://localhost:8080/ideogram/dist/js/ideogram.min.js';\n",
    "document.head.appendChild(script);"
   ]
  },
  {
   "cell_type": "code",
   "execution_count": 3,
   "metadata": {},
   "outputs": [
    {
     "data": {
      "text/html": [
       "<div id=\"ideo-container\"></div>\n"
      ],
      "text/plain": [
       "<IPython.core.display.HTML object>"
      ]
     },
     "metadata": {},
     "output_type": "display_data"
    }
   ],
   "source": [
    "%%html\n",
    "<div id=\"ideo-container\"></div>"
   ]
  },
  {
   "cell_type": "code",
   "execution_count": 4,
   "metadata": {},
   "outputs": [
    {
     "data": {
      "application/javascript": [
       "const MAPK_genes = [\n",
       "                    {'name': 'aop', 'chr': '2L', 'start': 2156484, 'stop': 2178754},\n",
       "                    {'name': 'Sos', 'chr': '2L', 'start': 13813816, 'stop': 13819824},\n",
       "                    {'name': 'Raf', 'chr': 'X', 'start': 2295466, 'stop': 2343870},\n",
       "                    {'name': 'test', 'chr': 'X', 'start': 12295466, 'stop': 12343870},\n",
       "                    {'name': 'pnt', 'chr': '3R', 'start': 23290231, 'stop': 23346167},\n",
       "                    {'name': 'Ras85D', 'chr': '3R', 'start': 9510561, 'stop': 9513067},\n",
       "                    {'name': 'Egfr', 'chr': '2R', 'start': 21522420, 'stop': 21559977},\n",
       "                    {'name': 'aos', 'chr': '3L', 'start': 16470386, 'stop': 16483650}, \n",
       "                    {'name': 'drk', 'chr': '2R', 'start': 13495222, 'stop': 13502841}, \n",
       "                    {'name': 'Dsor1', 'chr': 'X', 'start': 9247342, 'stop': 9250037}, \n",
       "                    {'name': 'sty', 'chr': '3L', 'start': 3401153, 'stop': 3424935}, \n",
       "                    {'name': 'kek1', 'chr': '2L', 'start': 12817000, 'stop': 12822787}, \n",
       "                    {'name': 'ksr', 'chr': '3R', 'start': 5478390, 'stop': 5483906}, \n",
       "                    {'name': 'cic', 'chr': '3R', 'start': 20252770, 'stop': 20303942}\n",
       "                   ]\n",
       "\n",
       "const ideogram = new Ideogram({\n",
       "    organism: 'drosophila-melanogaster',\n",
       "    container: '#ideo-container',\n",
       "    resolution: 550, // proxy for number of cytobands\n",
       "    chrHeight: 275,\n",
       "    chrMargin: 3,\n",
       "    annotationHeight: 4,\n",
       "    annotations: MAPK_genes\n",
       "})\n"
      ],
      "text/plain": [
       "<IPython.core.display.Javascript object>"
      ]
     },
     "metadata": {},
     "output_type": "display_data"
    }
   ],
   "source": [
    "%%javascript\n",
    "const MAPK_genes = [\n",
    "                    {'name': 'aop', 'chr': '2L', 'start': 2156484, 'stop': 2178754},\n",
    "                    {'name': 'Sos', 'chr': '2L', 'start': 13813816, 'stop': 13819824},\n",
    "                    {'name': 'Raf', 'chr': 'X', 'start': 2295466, 'stop': 2343870},\n",
    "                    {'name': 'test', 'chr': 'X', 'start': 12295466, 'stop': 12343870},\n",
    "                    {'name': 'pnt', 'chr': '3R', 'start': 23290231, 'stop': 23346167},\n",
    "                    {'name': 'Ras85D', 'chr': '3R', 'start': 9510561, 'stop': 9513067},\n",
    "                    {'name': 'Egfr', 'chr': '2R', 'start': 21522420, 'stop': 21559977},\n",
    "                    {'name': 'aos', 'chr': '3L', 'start': 16470386, 'stop': 16483650}, \n",
    "                    {'name': 'drk', 'chr': '2R', 'start': 13495222, 'stop': 13502841}, \n",
    "                    {'name': 'Dsor1', 'chr': 'X', 'start': 9247342, 'stop': 9250037}, \n",
    "                    {'name': 'sty', 'chr': '3L', 'start': 3401153, 'stop': 3424935}, \n",
    "                    {'name': 'kek1', 'chr': '2L', 'start': 12817000, 'stop': 12822787}, \n",
    "                    {'name': 'ksr', 'chr': '3R', 'start': 5478390, 'stop': 5483906}, \n",
    "                    {'name': 'cic', 'chr': '3R', 'start': 20252770, 'stop': 20303942}\n",
    "                   ]\n",
    "\n",
    "const ideogram = new Ideogram({\n",
    "    organism: 'drosophila-melanogaster',\n",
    "    container: '#ideo-container',\n",
    "    resolution: 550, // proxy for number of cytobands\n",
    "    chrHeight: 275,\n",
    "    chrMargin: 3,\n",
    "    annotationHeight: 4,\n",
    "    annotations: MAPK_genes\n",
    "})"
   ]
  },
  {
   "cell_type": "code",
   "execution_count": null,
   "metadata": {},
   "outputs": [],
   "source": []
  },
  {
   "cell_type": "code",
   "execution_count": null,
   "metadata": {},
   "outputs": [],
   "source": []
  }
 ],
 "metadata": {
  "kernelspec": {
   "display_name": "Python 3 (ipykernel)",
   "language": "python",
   "name": "python3"
  },
  "language_info": {
   "codemirror_mode": {
    "name": "ipython",
    "version": 3
   },
   "file_extension": ".py",
   "mimetype": "text/x-python",
   "name": "python",
   "nbconvert_exporter": "python",
   "pygments_lexer": "ipython3",
   "version": "3.11.0"
  }
 },
 "nbformat": 4,
 "nbformat_minor": 4
}
